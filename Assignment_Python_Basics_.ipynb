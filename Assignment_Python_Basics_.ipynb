{
  "nbformat": 4,
  "nbformat_minor": 0,
  "metadata": {
    "colab": {
      "provenance": []
    },
    "kernelspec": {
      "name": "python3",
      "display_name": "Python 3"
    },
    "language_info": {
      "name": "python"
    }
  },
  "cells": [
    {
      "cell_type": "code",
      "execution_count": null,
      "metadata": {
        "id": "AEROrhewZsxq"
      },
      "outputs": [],
      "source": [
        "# Basics of phython"
      ]
    },
    {
      "cell_type": "markdown",
      "source": [
        "Theory Questions\n",
        "\n",
        "Q1. What is Python, and why is it popula?\n",
        "\n",
        "   **Ans**- Python is a high-level, general-purpose programming language. It’s one of the easiest ones to learn and use, which is why it’s become super popular over the years.\n",
        "\n",
        "   **Why Python is Popular-**\n",
        "\n",
        "   a. Easy to Learn & Read -Python has a clean and straightforward syntax, making it ideal for beginners.Code often looks like plain English, which makes it easier to write and understand.\n",
        "\n",
        "   b. Versatile and Powerful- Used in web development, data science, machine learning, automation, scientific computing, game development, and more.\n",
        "\n",
        "   c. Huge Community Support- Millions of users worldwide contribute to libraries, tutorials, and forums. This means better support and faster problem-solving.\n",
        "\n",
        "   d. Rich Libraries & Frameworks\n",
        "\n",
        "   e. Cross-Platform Compatibility - Python runs on Windows, Mac, Linux, and more without major changes in the code.\n",
        "\n",
        "   f. Supports Rapid Prototyping - Ideal for startups and R&D because you can build working solutions quickly.\n",
        "\n",
        "..\n",
        "\n",
        "Q2. What is an interpreter in Python?\n",
        "\n",
        "  **Ans**- A Python interpreter is a special program that reads the Python code line by line and executes it immediately. It helps us run our Python scripts without converting them into machine code first.\n",
        "\n",
        "  Here's how I understand it:\n",
        "\n",
        "  I write code in a .py file (for example: data_cleaning.py)\n",
        "  When I run this file, the Python interpreter takes one line at a time, understands it, and tells the computer what to do.If there’s a mistake (like a typo or wrong logic), it tells me right away and stops running further lines.This is very helpful while learning because I can test small chunks of code and fix errors quickly.\n",
        "\n",
        "  In simple words:\n",
        "  The interpreter is like a translator between me (the programmer) and the computer—it helps the computer understand my Python code.\n",
        "\n",
        "..\n",
        "\n",
        "Q3. What are pre-defined keywords in Python?\n",
        "\n",
        "  **Ans**- Pre-defined keywords are special words that Python already understands and has reserved for specific purposes in the language.\n",
        "  \n",
        "  These keywords have fixed meanings, so we can’t use them as variable names or function names in our code.In simple words:Pre-defined keywords in Python are like grammar rules in English. Python knows what they mean and how to use them. We just need to follow the rules!\n",
        "\n",
        "  Some examples of keywords:\n",
        "  \n",
        "  a. if, else, elif – for decision making\n",
        "\n",
        "  b. for, while – for loops\n",
        "\n",
        "  c. def – to define a function\n",
        "  \n",
        "  d. True, False, None – for logical values\n",
        "  \n",
        "  e. import – to bring in external libraries\n",
        "\n",
        "  There are around 35 keywords in Python.\n",
        "\n",
        "..\n",
        "\n",
        "Q4. Can keywords be used as variable names?\n",
        "\n",
        "   **Ans**- Keywords cannot be used as variable names in Python.\n",
        "\n",
        "   Why? -Because keywords already have a special meaning in Python, and if we try to use them as variable names, it will confuse the interpreter and throw an error.\n",
        "\n",
        "   For example:\n",
        "\n",
        "   In python when I write if=10. This will show an error because if is a keyword used for writing conditions, not something we can assign a value to.\n",
        "\n",
        "   Keywords are like reserved seats—they’re already taken by Python, so we can’t use them for something else like naming our variables.\n",
        "\n",
        "..\n",
        "\n",
        "Q5. What is mutability in Python?\n",
        "\n",
        "  **Ans**- Mutability in Python refers to whether or not an object’s value can be changed after it’s created.\n",
        "\n",
        "  **Mutable objects:**These can be changed after they are created.\n",
        "  \n",
        "  For example:\n",
        "  \n",
        "  a. lists ([])\n",
        "  \n",
        "  b. dictionaries ({})\n",
        "  \n",
        "  c. sets (set())\n",
        "\n",
        "  Example:\n",
        "  \n",
        "  my_list = [1, 2, 3]\n",
        "  \n",
        "  my_list[0] = 10  # Now the list becomes [10, 2, 3]\n",
        "\n",
        "  **Immutable objects**:These cannot be changed once created.\n",
        "  \n",
        "  For example:\n",
        "  \n",
        "  a. int, float\n",
        "  \n",
        "  b. str (strings)\n",
        "  \n",
        "  c. tuple\n",
        "  \n",
        "  Example:\n",
        "\n",
        "  my_str = \"Data\", I cannot reassign it as,\n",
        "  \n",
        "  my_str[0] = \"B\"\n",
        "\n",
        "  \n",
        "  In general,\n",
        "  \n",
        "  Mutable = can change\n",
        "  \n",
        "  Immutable = can’t change\n",
        "  \n",
        "  Knowing this helps me write better code, especially when working with data structures like lists and dictionaries in data analysis.\n",
        "\n",
        "..\n",
        "\n",
        "Q6. Why are lists mutable, but tuples are immutable?\n",
        "\n",
        "   **Ans**- The key difference between lists and tuples is how they behave when we try to change them.\n",
        "\n",
        "   We can add, remove, or change items in a list after it’s created hence the lists are mutable.\n",
        "   \n",
        "   Example:\n",
        "\n",
        "   my_list = [1, 2, 3]\n",
        "   \n",
        "   my_list[0] = 10  # Now the list becomes [10, 2, 3]\n",
        "\n",
        "   Implimentation-Python makes lists mutable so they can be flexible and dynamic, which is useful in many real-world data tasks like cleaning, updating, or filtering data.\n",
        "\n",
        "   But once a tuple is created, it cannot be changed. This makes the tuples immutable.\n",
        "\n",
        "   Example:\n",
        "\n",
        "   my_tuple = (10, 20, 30)\n",
        "\n",
        "   my_tuple[1] = 25  #This will give an error\n",
        "\n",
        "   Implimentation- Tuples are made immutable for situations where we want to protect data from being accidentally changed, like when storing fixed records or using them as keys in a dictionary.\n",
        "\n",
        "   Hence,\n",
        "   \n",
        "   Lists are like whiteboards—you can edit them.Tuples are like printed paper—once done, you can’t change what’s written. Understanding this helps me choose the right one depending on the task in my data analysis projects.\n",
        "\n",
        "..\n",
        "\n",
        "Q7. What is the difference between == and is operators in Python?\n",
        "\n",
        "   **Ans**- == and is may look similar—but they are actually used for different purposes in Python.\n",
        "\n",
        "   == checks value equality- This operator checks whether two values are the same, even if they are stored in different places.\n",
        "   \n",
        "   Example:\n",
        "\n",
        "   a = [1, 2, 3]\n",
        "   \n",
        "   b = [1, 2, 3]\n",
        "   \n",
        "   print(a == b)  # Output: True (values are same)\n",
        "\n",
        "   is checks identity (memory location)-This checks whether two variables point to the exact same object in memory.\n",
        "   \n",
        "   Example:\n",
        "\n",
        "   a = [1, 2, 3]\n",
        "   \n",
        "   b = [1, 2, 3]\n",
        "   \n",
        "   print(a is b)  # Output: False (they are different objects in memory)\n",
        "\n",
        "   Implication- When working with large datasets or comparing objects, knowing whether you're checking value or identity can prevent bugs and save time.\n",
        "\n",
        "..\n",
        "\n",
        "Q8. What are logical operators in Python?\n",
        "\n",
        "   **Ans**- Logical operators are used to combine multiple conditions and make decisions in our code.They are especially useful when we’re filtering or comparing data.\n",
        "\n",
        "   Python has 3 main logical operators:\n",
        "\n",
        "   a. and – Returns True if both conditions are true\n",
        "\n",
        "   Example:\n",
        "   \n",
        "   age = 25\n",
        "   \n",
        "   print(age > 20 and age < 30)  # True\n",
        "\n",
        "   b. or – Returns True if at least one condition is true\n",
        "\n",
        "   Example:\n",
        "\n",
        "   score = 85\n",
        "   \n",
        "   print(score > 90 or score > 80)  # True\n",
        "\n",
        "   c. not – Reverses the result of the condition\n",
        "\n",
        "   Example:\n",
        "\n",
        "   is_raining = False\n",
        "   \n",
        "   print(not is_raining)  # True\n",
        "\n",
        "   Hence and = both conditions must be true, or = at least one condition must be true, not = flips True to False and vice versa\n",
        "\n",
        "   Implication - Logical operators help us filter datasets, apply conditions, or create decision-making logic—which are key skills in real-world data analysis.\n",
        "\n",
        "..\n",
        "\n",
        "Q9. What is type casting in Python?\n",
        "\n",
        "   **Ans**- Type casting is a way to change the data type of a value from one type to another.\n",
        "\n",
        "   Sometimes, we need to convert data—like changing a number stored as text (\"100\") into an actual integer (100)—so that we can do calculations or data cleaning properly.\n",
        "\n",
        "   Common type casting functions in Python:\n",
        "\n",
        "   a. int() – Converts to integer\n",
        "   \n",
        "   b. float() – Converts to decimal\n",
        "   \n",
        "   c. str() – Converts to string\n",
        "   \n",
        "   d. bool() – Converts to True/False\n",
        "\n",
        "   Example:\n",
        "\n",
        "   num_str = \"25\"\n",
        "   \n",
        "   num_int = int(num_str)\n",
        "   \n",
        "   print(num_int + 5)  # Output: 30\n",
        "\n",
        "   Without type casting, the above code would show an error because you can’t add a string and an integer.\n",
        "\n",
        "   Type casting is like telling Python to treat one type of data as another, so we can do what we want with it—especially important when cleaning messy data in real-world analysis.\n",
        "\n",
        "..\n",
        "\n",
        "Q10. What is the difference between implicit and explicit type casting?\n",
        "\n",
        "   **Ans**- Type casting is how we convert one data type into another in Python. This can happen in two ways: implicit and explicit.\n",
        "\n",
        "   a. Implicit Type Casting – Done automatically by Python\n",
        "   \n",
        "   Python automatically converts one data type to another when it’s safe to do so—no need for us to tell it.\n",
        "   \n",
        "   Example:\n",
        "\n",
        "   num = 10   # int\n",
        "   \n",
        "   result = num + 2.5  # float\n",
        "   \n",
        "   print(result)  # Output: 12.5\n",
        "\n",
        "   In this case, Python automatically changed 10 (int) to 10.0 (float) to match the type of 2.5.\n",
        "\n",
        "   b. Explicit Type Casting – Done manually by us\n",
        "\n",
        "   Here, we intentionally convert the data type using functions like int(), float(), str(), etc.\n",
        "\n",
        "   Example:\n",
        "\n",
        "   num_str = \"100\"\n",
        "   \n",
        "   num_int = int(num_str)\n",
        "   \n",
        "   print(num_int + 50)  # Output: 150\n",
        "\n",
        "   If we didn’t convert \"100\" (a string) into an integer, Python would throw an error when trying to do math with it.\n",
        "\n",
        "   Implicit = Python does it for us and Explicit = We do it ourselves.\n",
        "\n",
        "   Implication - Sometimes we get data as text, even if it contains numbers. Knowing when and how to cast types helps avoid errors and makes data cleaning much easier!\n",
        "\n",
        "..\n",
        "\n",
        "Q11. What is the purpose of conditional statements in Python?\n",
        "\n",
        "   **Ans**- Conditional statements are like yes/no checkpoints in our program.They help us control how the program behaves based on different situations.\n",
        "   \n",
        "   Conditional statements help us make decisions in our code. They allow our program to run different blocks of code based on certain conditions—just like how we make decisions in real life.\n",
        "\n",
        "   Use of conditional statements:\n",
        "\n",
        "   Conditional statements help Python check if something is true or false and then decide what to do next.\n",
        "\n",
        "   For example:\n",
        "\n",
        "   age = 18\n",
        "   \n",
        "   if age >= 18:\n",
        "   \n",
        "   print(\"Eligible to vote\")\n",
        "   \n",
        "   else:\n",
        "   \n",
        "   print(\"Not eligible to vote\")\n",
        "\n",
        "   In this case, Python checks the condition (age >= 18) and runs the correct block of code.\n",
        "\n",
        "   Implication- They help in filtering data, applying rules, and handling missing or incorrect values.\n",
        "\n",
        "..\n",
        "\n",
        "Q12. How does the elif statement work?\n",
        "\n",
        "   **Ans**- elif stands for “else if”. It comes after an if statement and before an else statement.It helps Python check another condition if the first if condition is false.\n",
        "   \n",
        "   The elif statement is super helpful when we want to check more than one condition in our code.\n",
        "\n",
        "   Python checks conditions in this order:\n",
        "   \n",
        "   First, it checks the if condition.\n",
        "   \n",
        "   If if is false, it checks the elif condition.\n",
        "   \n",
        "   If none of the if or elif conditions are true, it runs the else block (if present).\n",
        "\n",
        "   Example:\n",
        "\n",
        "   marks = 75\n",
        "   \n",
        "   if marks >= 90:\n",
        "   \n",
        "   print(\"Grade A\")\n",
        "   \n",
        "   elif marks >= 75:\n",
        "   \n",
        "   print(\"Grade B\")\n",
        "   \n",
        "   else:\n",
        "   \n",
        "   print(\"Grade C\")\n",
        "\n",
        "   In this example, marks >= 90 is false, but marks >= 75 is true, so Python prints \"Grade B\".\n",
        "\n",
        "   The elif statement is like saying: “If not this, then check that.” It helps us handle multiple possibilities in a clean and readable way.\n",
        "\n",
        "   Implication- When working with real-world data, we often need to categorize values, apply rules, or assign labels based on conditions. elif helps us do that smoothly.\n",
        "\n",
        "..\n",
        "\n",
        "Q13. What is the difference between for and while loops?\n",
        "\n",
        "  **Ans**- Loops help us repeat a set of actions in Python. The two main types are for and while loops—but they’re used in slightly different ways.\n",
        "\n",
        "  a. for loop – Used when we know how many times to run\n",
        "  \n",
        "  We use a for loop to go through a sequence like a list, string, or range. It’s great when we already know the number of items we want to loop through.\n",
        "  \n",
        "  Example:\n",
        "\n",
        "  fruits = [\"apple\", \"banana\", \"mango\"]\n",
        "  \n",
        "  for fruit in fruits:\n",
        "  \n",
        "  print(fruit)\n",
        "\n",
        "  Output:\n",
        "  \n",
        "  apple\n",
        "  \n",
        "  banana\n",
        "  \n",
        "  mango\n",
        "\n",
        "  b. while loop – Used when we don’t know in advance how many times to run\n",
        "  \n",
        "  We use a while loop when we want to keep repeating something as long as a condition is true.\n",
        "  \n",
        "  Example:\n",
        "\n",
        "  count = 1\n",
        "  \n",
        "  while count <= 3:\n",
        "  \n",
        "  print(\"Hello\")\n",
        "  \n",
        "  count += 1\n",
        "\n",
        "  Output:\n",
        "  \n",
        "  Hello\n",
        "  \n",
        "  Hello\n",
        "  \n",
        "  Hello\n",
        "\n",
        "  for loop = “Loop through a list or range”\n",
        "  \n",
        "  while loop = “Keep looping while a condition is true”\n",
        "\n",
        "  Implication- Loops help in clean data, repeat calculations, and go through rows in a dataset—so understanding the difference help to choose the right loop for the job.\n",
        "\n",
        "..\n",
        "\n",
        "Q.14 Describe a scenario where a while loop is more suitable than a for loop.\n",
        "\n",
        "   **Ans**- while loops are better when we don’t know in advance how many times we need to repeat something.\n",
        "\n",
        "   Example Scenario:\n",
        "   \n",
        "   Let’s say I’m writing a program that keeps asking the user to enter a password until they type the correct one.\n",
        "   \n",
        "   In this case, I don’t know how many tries the user will take—so a while loop is perfect here\n",
        "\n",
        "   password = \"\"\n",
        "   \n",
        "   while password != \"data123\":\n",
        "   \n",
        "   password = input(\"Enter the password: \")\n",
        "   \n",
        "   print(\"Access granted!\")\n",
        "\n",
        "   This loop will keep running until the user enters \"data123\".\n",
        "\n",
        "   A while loop is better when the number of repetitions is not fixed and we want the loop to run until a certain condition is met.\n",
        "\n",
        "   Implication- Sometimes while processing files or cleaning datasets, we might want to keep checking for missing values or errors until all issues are fixed. In such cases, a while loop is more useful than a for loop.\n",
        "\n"
      ],
      "metadata": {
        "id": "2l13Yn7iaRnt"
      }
    },
    {
      "cell_type": "markdown",
      "source": [
        "**Practical** **question**"
      ],
      "metadata": {
        "id": "HidWO8185pmu"
      }
    },
    {
      "cell_type": "markdown",
      "source": [
        "Q1. Write a Python program to print \"Hello, World!\""
      ],
      "metadata": {
        "id": "eFH17c0n5u7c"
      }
    },
    {
      "cell_type": "code",
      "source": [
        "print(\"Hello, World!\")"
      ],
      "metadata": {
        "colab": {
          "base_uri": "https://localhost:8080/"
        },
        "id": "8rXTBFuv6BXX",
        "outputId": "6dd559ac-f470-43b9-e2da-e71c2dd88534"
      },
      "execution_count": 5,
      "outputs": [
        {
          "output_type": "stream",
          "name": "stdout",
          "text": [
            "Hello, World!\n"
          ]
        }
      ]
    },
    {
      "cell_type": "markdown",
      "source": [
        "Q2. Write a Python program that displays your name and age."
      ],
      "metadata": {
        "id": "Z1KkzzIk6SKq"
      }
    },
    {
      "cell_type": "code",
      "source": [
        "Name=\"Shridevi\"\n",
        "Age=35\n",
        "print(\"Name:\",Name)\n",
        "print(\"Age:\",Age)"
      ],
      "metadata": {
        "colab": {
          "base_uri": "https://localhost:8080/"
        },
        "id": "6kpr24z06uNX",
        "outputId": "32bc0690-ed09-4a89-8289-38a853eacdf2"
      },
      "execution_count": 7,
      "outputs": [
        {
          "output_type": "stream",
          "name": "stdout",
          "text": [
            "Name: Shridevi\n",
            "Age: 35\n"
          ]
        }
      ]
    },
    {
      "cell_type": "markdown",
      "source": [
        "Q3. Write code to print all the pre-defined keywords in Python using the keyword library"
      ],
      "metadata": {
        "id": "ax6ByBQt7NTh"
      }
    },
    {
      "cell_type": "code",
      "source": [
        "import keyword\n",
        "print(\"python keywords are:\")\n",
        "print(keyword.kwlist)"
      ],
      "metadata": {
        "colab": {
          "base_uri": "https://localhost:8080/"
        },
        "id": "OiuimZLF79cA",
        "outputId": "ce1ecb7f-1ad6-41a8-b127-fe13863ee53d"
      },
      "execution_count": 11,
      "outputs": [
        {
          "output_type": "stream",
          "name": "stdout",
          "text": [
            "python keywords are:\n",
            "['False', 'None', 'True', 'and', 'as', 'assert', 'async', 'await', 'break', 'class', 'continue', 'def', 'del', 'elif', 'else', 'except', 'finally', 'for', 'from', 'global', 'if', 'import', 'in', 'is', 'lambda', 'nonlocal', 'not', 'or', 'pass', 'raise', 'return', 'try', 'while', 'with', 'yield']\n",
            "<built-in method __contains__ of frozenset object at 0x79a90d92c900>\n"
          ]
        }
      ]
    },
    {
      "cell_type": "markdown",
      "source": [
        "Q4. Write a program that checks if a given word is a Python keyword."
      ],
      "metadata": {
        "id": "B77YwC3v9AJk"
      }
    },
    {
      "cell_type": "code",
      "source": [
        "import keyword\n",
        "\n",
        "word = input(\"Enter a word: \")\n",
        "\n",
        "if keyword.iskeyword(word):\n",
        "    print(f\"'{word}' is a Python keyword.\")\n",
        "else:\n",
        "    print(f\"'{word}' is not a Python keyword.\")"
      ],
      "metadata": {
        "colab": {
          "base_uri": "https://localhost:8080/"
        },
        "id": "ijCzBHjMBZJy",
        "outputId": "ed971011-1d74-4bb9-9ba5-fb5e2e781c15"
      },
      "execution_count": 18,
      "outputs": [
        {
          "output_type": "stream",
          "name": "stdout",
          "text": [
            "Enter a word: if\n",
            "'if' is a Python keyword.\n"
          ]
        }
      ]
    },
    {
      "cell_type": "markdown",
      "source": [
        "Q5. Create a list and tuple in Python, and demonstrate how attempting to change an element works differently for each."
      ],
      "metadata": {
        "id": "2kA-8nkjQVP0"
      }
    },
    {
      "cell_type": "code",
      "source": [
        "# Creating a list\n",
        "my_list = [10, 20, 30]\n",
        "my_list[1] = 25  # This will work\n",
        "print(my_list)"
      ],
      "metadata": {
        "colab": {
          "base_uri": "https://localhost:8080/"
        },
        "id": "80cSQsWsRW27",
        "outputId": "7aa59777-547e-466c-b89c-707ac53aa478"
      },
      "execution_count": 24,
      "outputs": [
        {
          "output_type": "stream",
          "name": "stdout",
          "text": [
            "[10, 25, 30]\n"
          ]
        }
      ]
    },
    {
      "cell_type": "code",
      "source": [
        "# Creating a tuple\n",
        "my_tuple = (10, 20, 30)\n",
        "my_tuple[1] = 25\n",
        "print( my_tuple)"
      ],
      "metadata": {
        "colab": {
          "base_uri": "https://localhost:8080/",
          "height": 193
        },
        "id": "GERi60T2RZbn",
        "outputId": "9624e238-cb52-4a0d-b0c4-c6917cfbb41d"
      },
      "execution_count": 25,
      "outputs": [
        {
          "output_type": "error",
          "ename": "TypeError",
          "evalue": "'tuple' object does not support item assignment",
          "traceback": [
            "\u001b[0;31m---------------------------------------------------------------------------\u001b[0m",
            "\u001b[0;31mTypeError\u001b[0m                                 Traceback (most recent call last)",
            "\u001b[0;32m<ipython-input-25-cece3ed4a959>\u001b[0m in \u001b[0;36m<cell line: 0>\u001b[0;34m()\u001b[0m\n\u001b[1;32m      1\u001b[0m \u001b[0;31m# Creating a tuple\u001b[0m\u001b[0;34m\u001b[0m\u001b[0;34m\u001b[0m\u001b[0m\n\u001b[1;32m      2\u001b[0m \u001b[0mmy_tuple\u001b[0m \u001b[0;34m=\u001b[0m \u001b[0;34m(\u001b[0m\u001b[0;36m10\u001b[0m\u001b[0;34m,\u001b[0m \u001b[0;36m20\u001b[0m\u001b[0;34m,\u001b[0m \u001b[0;36m30\u001b[0m\u001b[0;34m)\u001b[0m\u001b[0;34m\u001b[0m\u001b[0;34m\u001b[0m\u001b[0m\n\u001b[0;32m----> 3\u001b[0;31m \u001b[0mmy_tuple\u001b[0m\u001b[0;34m[\u001b[0m\u001b[0;36m1\u001b[0m\u001b[0;34m]\u001b[0m \u001b[0;34m=\u001b[0m \u001b[0;36m25\u001b[0m\u001b[0;34m\u001b[0m\u001b[0;34m\u001b[0m\u001b[0m\n\u001b[0m\u001b[1;32m      4\u001b[0m \u001b[0mprint\u001b[0m\u001b[0;34m(\u001b[0m \u001b[0mmy_tuple\u001b[0m\u001b[0;34m)\u001b[0m\u001b[0;34m\u001b[0m\u001b[0;34m\u001b[0m\u001b[0m\n",
            "\u001b[0;31mTypeError\u001b[0m: 'tuple' object does not support item assignment"
          ]
        }
      ]
    },
    {
      "cell_type": "code",
      "source": [
        "my_tuple = (10, 20, 30)\n",
        "print(my_tuple)"
      ],
      "metadata": {
        "colab": {
          "base_uri": "https://localhost:8080/"
        },
        "id": "GvQMQvbTSCAd",
        "outputId": "ac70cffe-4d2c-42c1-f391-ba303997ee52"
      },
      "execution_count": 23,
      "outputs": [
        {
          "output_type": "stream",
          "name": "stdout",
          "text": [
            "(10, 20, 30)\n"
          ]
        }
      ]
    },
    {
      "cell_type": "markdown",
      "source": [
        "Q6. Write a function to demonstrate the behavior of mutable and immutable arguments."
      ],
      "metadata": {
        "id": "QLlig99HSaXD"
      }
    },
    {
      "cell_type": "code",
      "source": [
        "# Function with immutable argument\n",
        "def modify_number(n):\n",
        "    n = n + 10\n",
        "    print(\"Inside function (number):\", n)\n",
        "\n",
        "num = 5\n",
        "modify_number(num)\n",
        "print(\"Outside function (number):\", num)\n",
        "\n",
        "# Function with mutable argument\n",
        "def modify_list(lst):\n",
        "    lst.append(4)\n",
        "    print(\"Inside function (list):\", lst)\n",
        "\n",
        "my_list = [1, 2, 3]\n",
        "modify_list(my_list)\n",
        "print(\"Outside function (list):\", my_list)"
      ],
      "metadata": {
        "colab": {
          "base_uri": "https://localhost:8080/"
        },
        "id": "MTBexZufShWZ",
        "outputId": "0284ece8-112d-4033-c39e-77234fec437c"
      },
      "execution_count": 33,
      "outputs": [
        {
          "output_type": "stream",
          "name": "stdout",
          "text": [
            "Inside function (number): 15\n",
            "Outside function (number): 5\n",
            "Inside function (list): [1, 2, 3, 4]\n",
            "Outside function (list): [1, 2, 3, 4]\n"
          ]
        }
      ]
    },
    {
      "cell_type": "markdown",
      "source": [
        "Q7. Write a program that performs basic arithmetic operations on two user-input numbers."
      ],
      "metadata": {
        "id": "RXq-fHQBU0_i"
      }
    },
    {
      "cell_type": "code",
      "source": [
        "# Taking input from the user\n",
        "num1 = float(input(\"Enter first number: \"))\n",
        "num2 = float(input(\"Enter second number: \"))\n",
        "\n",
        "# Performing basic arithmetic operations\n",
        "print(\"Addition:\", num1 + num2)\n",
        "print(\"Subtraction:\", num1 - num2)\n",
        "print(\"Multiplication:\", num1 * num2)\n",
        "print(\"Division:\", num1 / num2)"
      ],
      "metadata": {
        "colab": {
          "base_uri": "https://localhost:8080/"
        },
        "id": "MJpK2NoyU8rt",
        "outputId": "e5361f4c-edd0-41fd-8dcd-6e5e232a7ea7"
      },
      "execution_count": 38,
      "outputs": [
        {
          "output_type": "stream",
          "name": "stdout",
          "text": [
            "Enter first number: 20\n",
            "Enter second number: 5\n",
            "Addition: 25.0\n",
            "Subtraction: 15.0\n",
            "Multiplication: 100.0\n",
            "Division: 4.0\n"
          ]
        }
      ]
    },
    {
      "cell_type": "markdown",
      "source": [
        "Q8. Similarly write answer for practical qusetion"
      ],
      "metadata": {
        "id": "V1K3yRKLVcoQ"
      }
    },
    {
      "cell_type": "code",
      "source": [
        "# Taking input from the user\n",
        "age = int(input(\"Enter your age: \"))\n",
        "has_id = input(\"Do you have an ID? (yes/no): \")\n",
        "\n",
        "# Using logical operators\n",
        "if age >= 18 and has_id.lower() == \"yes\":\n",
        "    print(\"You are allowed to enter.\")\n",
        "elif age >= 18 and has_id.lower() == \"no\":\n",
        "    print(\"You need to show an ID to enter.\")\n",
        "else:\n",
        "    print(\"You are not allowed to enter.\")"
      ],
      "metadata": {
        "colab": {
          "base_uri": "https://localhost:8080/"
        },
        "id": "Z3it-_Y_Vv86",
        "outputId": "6d5ed431-1cb3-4404-abaa-fcdc58a6f93e"
      },
      "execution_count": 39,
      "outputs": [
        {
          "output_type": "stream",
          "name": "stdout",
          "text": [
            "Enter your age: 36\n",
            "Do you have an ID? (yes/no): yes\n",
            "You are allowed to enter.\n"
          ]
        }
      ]
    },
    {
      "cell_type": "markdown",
      "source": [
        "Q9. Write a Python program to convert user input from string to integer, float, and boolean types."
      ],
      "metadata": {
        "id": "K0eLNt4YWC5m"
      }
    },
    {
      "cell_type": "code",
      "source": [
        "# Taking input from the user as a string\n",
        "user_input = input(\"Enter a value: \")\n",
        "\n",
        "# Converting to integer\n",
        "try:\n",
        "    int_value = int(user_input)\n",
        "    print(\"Integer:\", int_value)\n",
        "except ValueError:\n",
        "    print(\"Cannot convert to Integer\")\n",
        "\n",
        "# Converting to float\n",
        "try:\n",
        "    float_value = float(user_input)\n",
        "    print(\"Float:\", float_value)\n",
        "except ValueError:\n",
        "    print(\"Cannot convert to Float\")\n",
        "\n",
        "# Converting to boolean\n",
        "bool_value = bool(user_input)\n",
        "print(\"Boolean:\", bool_value)"
      ],
      "metadata": {
        "colab": {
          "base_uri": "https://localhost:8080/"
        },
        "id": "vyocABKIWhfq",
        "outputId": "69848520-3ca4-4d52-f685-5920083a18f9"
      },
      "execution_count": 40,
      "outputs": [
        {
          "output_type": "stream",
          "name": "stdout",
          "text": [
            "Enter a value: 20\n",
            "Integer: 20\n",
            "Float: 20.0\n",
            "Boolean: True\n"
          ]
        }
      ]
    },
    {
      "cell_type": "markdown",
      "source": [
        "Q10. Write code to demonstrate type casting with list elements."
      ],
      "metadata": {
        "id": "dQjFsQMtXE4T"
      }
    },
    {
      "cell_type": "code",
      "source": [
        "# Original list with string numbers\n",
        "str_list = [\"10\", \"20\", \"30\"]\n",
        "\n",
        "# Type casting each element to integer\n",
        "int_list = [int(item) for item in str_list]\n",
        "\n",
        "print(\"Original List (strings):\", str_list)\n",
        "print(\"Type Casted List (integers):\", int_list)"
      ],
      "metadata": {
        "colab": {
          "base_uri": "https://localhost:8080/"
        },
        "id": "ZMtvSBD5Xzlc",
        "outputId": "f956831c-9f95-42f1-f150-4132f78b98c0"
      },
      "execution_count": 37,
      "outputs": [
        {
          "output_type": "stream",
          "name": "stdout",
          "text": [
            "Original List (strings): ['10', '20', '30']\n",
            "Type Casted List (integers): [10, 20, 30]\n"
          ]
        }
      ]
    },
    {
      "cell_type": "markdown",
      "source": [
        "Q11. Write a program that checks if a number is positive, negative, or zero."
      ],
      "metadata": {
        "id": "Ycj-GpwccvQ9"
      }
    },
    {
      "cell_type": "code",
      "source": [
        "# Taking input from the user\n",
        "num = float(input(\"Enter a number: \"))\n",
        "\n",
        "# Checking if the number is positive, negative, or zero\n",
        "if num > 0:\n",
        "    print(\"The number is positive.\")\n",
        "elif num < 0:\n",
        "    print(\"The number is negative.\")\n",
        "else:\n",
        "    print(\"The number is zero.\")"
      ],
      "metadata": {
        "colab": {
          "base_uri": "https://localhost:8080/"
        },
        "id": "-hSp2US0c_l9",
        "outputId": "b59a9af0-57e4-4cbd-ae7a-27cf59df1c9a"
      },
      "execution_count": 42,
      "outputs": [
        {
          "output_type": "stream",
          "name": "stdout",
          "text": [
            "Enter a number: 8\n",
            "The number is positive.\n"
          ]
        }
      ]
    },
    {
      "cell_type": "markdown",
      "source": [
        "Q12. Write a for loop to print numbers from 1 to 10."
      ],
      "metadata": {
        "id": "__Neh9a0dgtA"
      }
    },
    {
      "cell_type": "code",
      "source": [
        "# Using a for loop to print numbers from 1 to 10\n",
        "for i in range(1, 11):\n",
        "    print(i)"
      ],
      "metadata": {
        "colab": {
          "base_uri": "https://localhost:8080/"
        },
        "id": "geAc3TnRdwqM",
        "outputId": "1a8ed5b7-5d3e-4985-97e3-1f62bdae872c"
      },
      "execution_count": 43,
      "outputs": [
        {
          "output_type": "stream",
          "name": "stdout",
          "text": [
            "1\n",
            "2\n",
            "3\n",
            "4\n",
            "5\n",
            "6\n",
            "7\n",
            "8\n",
            "9\n",
            "10\n"
          ]
        }
      ]
    },
    {
      "cell_type": "markdown",
      "source": [
        "Q13. Write a Python program to find the sum of all even numbers between 1 and 50."
      ],
      "metadata": {
        "id": "2wdXwxA6eKdH"
      }
    },
    {
      "cell_type": "code",
      "source": [
        "# Finding the sum of all even numbers between 1 and 50\n",
        "even_sum = 0\n",
        "\n",
        "for num in range(1, 51):\n",
        "    if num % 2 == 0:\n",
        "        even_sum += num\n",
        "\n",
        "print(\"Sum of even numbers from 1 to 50 is:\", even_sum)"
      ],
      "metadata": {
        "colab": {
          "base_uri": "https://localhost:8080/"
        },
        "id": "8zsrrKwsetxW",
        "outputId": "6d2603aa-786a-401a-9692-a87c9af622f4"
      },
      "execution_count": 44,
      "outputs": [
        {
          "output_type": "stream",
          "name": "stdout",
          "text": [
            "Sum of even numbers from 1 to 50 is: 650\n"
          ]
        }
      ]
    },
    {
      "cell_type": "markdown",
      "source": [
        "Q14. Write a program to reverse a string using a while loop."
      ],
      "metadata": {
        "id": "vg5mF9tXexZf"
      }
    },
    {
      "cell_type": "code",
      "source": [
        "# Taking input from the user\n",
        "text = input(\"Enter a string: \")\n",
        "\n",
        "# Reversing the string using a while loop\n",
        "reversed_text = \"\"\n",
        "index = len(text) - 1\n",
        "\n",
        "while index >= 0:\n",
        "    reversed_text += text[index]\n",
        "    index -= 1\n",
        "\n",
        "print(\"Reversed string:\", reversed_text)"
      ],
      "metadata": {
        "colab": {
          "base_uri": "https://localhost:8080/"
        },
        "id": "C8NQlSrafLDO",
        "outputId": "c012d654-df18-46dd-e461-40415185492c"
      },
      "execution_count": 46,
      "outputs": [
        {
          "output_type": "stream",
          "name": "stdout",
          "text": [
            "Enter a string: loop\n",
            "Reversed string: pool\n"
          ]
        }
      ]
    },
    {
      "cell_type": "markdown",
      "source": [
        "Q15. Write a Python program to calculate the factorial of a number provided by the user using a while loop."
      ],
      "metadata": {
        "id": "srYfr8-yfk2I"
      }
    },
    {
      "cell_type": "code",
      "source": [
        "# Taking input from the user\n",
        "num = int(input(\"Enter a number: \"))\n",
        "factorial = 1\n",
        "i = 1\n",
        "\n",
        "# Calculating factorial using while loop\n",
        "while i <= num:\n",
        "    factorial *= i\n",
        "    i += 1\n",
        "\n",
        "print(\"Factorial of\", num, \"is:\", factorial)"
      ],
      "metadata": {
        "colab": {
          "base_uri": "https://localhost:8080/"
        },
        "id": "gO05_VEUf3j9",
        "outputId": "faebd99f-760e-49d3-e26c-c0fa14a38ba3"
      },
      "execution_count": 47,
      "outputs": [
        {
          "output_type": "stream",
          "name": "stdout",
          "text": [
            "Enter a number: 12\n",
            "Factorial of 12 is: 479001600\n"
          ]
        }
      ]
    }
  ]
}